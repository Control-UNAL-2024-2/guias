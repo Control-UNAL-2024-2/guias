{
 "cells": [
  {
   "cell_type": "code",
   "execution_count": 1,
   "metadata": {},
   "outputs": [],
   "source": [
    "import numpy as np\n",
    "import matplotlib.pyplot as plt\n",
    "import control as ct"
   ]
  },
  {
   "cell_type": "markdown",
   "metadata": {},
   "source": [
    "# Linear-Quadratic Regulator (LQR)\n",
    "---\n",
    "\n",
    "LQR es una técnica en donde es posible ubicar los polos del sistema en un lugar especifico para lograr un desempeńo deseado. Esto se realiza de una forma muy similar a lo visto en Pole Placement, aplicando una ganancia K en la realimentación. Sin embargo, en LQR se optimizan las ganancias para encontrar la relación deseada entre el esfuerzo y el desempeño del sistema.\n",
    "\n",
    "\n"
   ]
  },
  {
   "cell_type": "markdown",
   "metadata": {},
   "source": [
    " Imaginemos un ejemplo ilustrativo. Suponga que debe trasladarse a la universidad utilizando diferentes metodos de transporte, donde con cada uno tardará un tiempo $t$ (desempeño), pero con un precio asociado (esfuerzo).\n",
    "\n",
    " \n",
    "|           | Tiempo (minutos) | Precio (Miles de pesos) |\n",
    "|:---------:|:----------------:|:-----------:|\n",
    "| Bicicleta |        30        |      0      |\n",
    "| Automovil |        20        |    15    |\n",
    "|    Bus    |        45        |     2.75    |\n",
    "\n",
    "\n",
    "¿Cúal sería la mejor forma de llegar a la universidad?\n",
    "\n",
    "**Depende**. La respuesta varía dependiendo de que queremos priorizar. \n",
    "\n",
    "Si tomamos una función de coste total $J$:\n",
    "\n",
    "$$J = Q*tiempo + R*Precio$$\n",
    "\n",
    "Donde Q y R son las prioriodades que se les da a cada una de las variables del sistema, por ejemplo, si quisieramos priorizar (penalizar) el precio sobre el tiempo, tendríamos los siguientes resultados:\n",
    "\n",
    "$Q=1, R=2$\n",
    "\n",
    "\n",
    "|           | Tiempo (minutos) | Coste (Miles de pesos) |   J   |\n",
    "|:---------:|:----------------:|:-----------:|:-----:|\n",
    "| Bicicleta |        30        |      0      |   30  |\n",
    "| Automovil |        20        |    15       | 50    |\n",
    "|    Bus    |        45        |     2.75    |  50.5 |\n",
    "\n",
    "En este caso, el metodo de transporte optimo sería la bicicleta. Si por el contrario penalizamos el tiempo:\n",
    "\n",
    "$Q = 2, R=1$\n",
    "\n",
    "|           | Tiempo (minutos) | Coste (Miles de pesos) |   J   |\n",
    "|:---------:|:----------------:|:----------------------:|:-----:|\n",
    "| Bicicleta |        30        |            0           |   60  |\n",
    "| Automovil |        20        |           15           |   55  |\n",
    "|    Bus    |        45        |          2.75          | 92.75 |\n",
    "\n",
    "De esta forma, el metodo optimo sería el automovil\n"
   ]
  },
  {
   "cell_type": "markdown",
   "metadata": {},
   "source": [
    "Aplicado en sistemas dinámicos, podemos establecer $Q$ como una matriz cuadrada donde en la diagonal esta el coste de cada una de las variables del sistema, mientras que $R$ es tambien una matriz diagonal con el coste de cada una de las entradas al sistema. De esta manera, podemos definir la función de coste como:\n",
    "\n",
    "$$J = \\int_0^\\infty (x^TQx + u^TRu)$$\n",
    "\n",
    "De esta forma, se podemos plantear un problema de optimización donde encontremos las constantes K tal que minimicen la función de coste."
   ]
  },
  {
   "cell_type": "markdown",
   "metadata": {},
   "source": [
    "# Ejemplo con UNMotorDC\n",
    "---"
   ]
  },
  {
   "cell_type": "markdown",
   "metadata": {},
   "source": [
    "Podemos realizar varios experimentos con diferentes parametros de $Q$ y $R$ para comparar los resultados en el desempeño y la energía utilizada en el sistema"
   ]
  },
  {
   "cell_type": "markdown",
   "metadata": {},
   "source": [
    "## Modelo en espacio de estados de un motor DC\n",
    "\n",
    "El modelo en variables de estado lo podemos definir como:\n",
    "\n",
    "$$x = \n",
    "\\begin{bmatrix}\n",
    "-b/J & K_t/J\\\\\n",
    "-K_e/L & -R/L\n",
    "\\end{bmatrix}\n",
    "\\begin{bmatrix}\n",
    "\\dot{\\theta} \\\\\n",
    "i\n",
    "\\end{bmatrix}\n",
    "+\n",
    "\\begin{bmatrix}\n",
    "0 \\\\\n",
    "1/L\n",
    "\\end{bmatrix} V\n",
    "$$\n",
    "\n",
    "$$\n",
    "y = \\begin{bmatrix}\n",
    "1 & 0\n",
    "\\end{bmatrix}\n",
    "\\begin{bmatrix}\n",
    "\\dot{\\theta}\\\\\n",
    "i\n",
    "\\end{bmatrix}\n",
    "$$"
   ]
  },
  {
   "cell_type": "code",
   "execution_count": 62,
   "metadata": {},
   "outputs": [],
   "source": [
    "# Constantes del motor\n",
    "b = 0.1 # Fricción\n",
    "J = 0.01 # Momento de inercia del rotor\n",
    "Kt = 0.01 # Constante del torque del motor\n",
    "Ke = 0.01 # Constante de fuerza electromotriz\n",
    "L = 0.5 # Inductancia\n",
    "R = 1 # Resistencia\n",
    "\n",
    "# Modelo en espacio de estados\n",
    "A = np.asarray([[0, 1, 0], [0, -b/J, Kt/J],[0, -Ke/L, -R/L]])\n",
    "B = np.asarray([[0], [0],[1/L]])\n",
    "C = np.asarray([1, 0, 0])\n",
    "D = 0\n",
    "\n",
    "system = ct.ss(A, B, C, D)"
   ]
  },
  {
   "cell_type": "markdown",
   "metadata": {},
   "source": [
    "## Establecer Q y R\n",
    "\n",
    "Para este sistema, podemos definir la matriz $Q$ de la forma:\n",
    "\n",
    "$$Q=\n",
    "\\begin{bmatrix}\n",
    "\\textit{Coste de la velocidad angular} & 0\\\\\n",
    "0 & \\textit{Coste de la corriente}\n",
    "\\end{bmatrix}\n",
    "$$\n",
    "\n",
    "Mientras que $R$ representa el coste del voltaje, para este sistema es un valor escalar."
   ]
  },
  {
   "cell_type": "markdown",
   "metadata": {},
   "source": [
    "## LQR en python\n",
    "---"
   ]
  },
  {
   "cell_type": "code",
   "execution_count": null,
   "metadata": {},
   "outputs": [],
   "source": [
    "# funciones utiles\n",
    "\n",
    "def simulate_system(lqr_sys, K_lqr):\n",
    "    t = np.linspace(0, 10, 100)  # Tiempo de simulación\n",
    "    step_input = np.ones_like(t)\n",
    "    _, y, x = ct.forced_response(lqr_sys, T=t, U=step_input, return_x=True)\n",
    "    u = -K_lqr @ x\n",
    "    \n",
    "    plt.figure(figsize=(10, 6), dpi=80)\n",
    "\n",
    "    fig, ax1 = plt.subplots(figsize=(10, 6), dpi=80)\n",
    "    ax1.plot(t, y, label='Posición Angular', color=\"blue\")\n",
    "    ax1.set_title(\"Estados del sistema\")\n",
    "    ax1.set_xlabel(\"t\")\n",
    "    ax1.set_ylabel(\"Posición angular\")\n",
    "\n",
    "    ax2 = ax1.twinx()\n",
    "    ax2.plot(t, u.T, label='U', color=\"red\")\n",
    "    ax2.set_xlabel(\"t\")\n",
    "    ax2.set_ylabel(\"U (Esfuerzo)\")\n",
    "    plt.grid()\n",
    "    fig.legend()\n",
    "\n",
    "def lqr_system(sys, Q, R):\n",
    "    K_lqr, S, E = ct.lqr(sys, Q, R)\n",
    "    Acl = A - B @ K_lqr\n",
    "    lqr_sys = ct.ss(Acl, B, C, D)\n",
    "    return lqr_sys, K_lqr"
   ]
  },
  {
   "cell_type": "markdown",
   "metadata": {},
   "source": [
    "## Comparación del rendimiento con diferentes valores de $Q$ y $R$"
   ]
  },
  {
   "cell_type": "markdown",
   "metadata": {},
   "source": [
    "Podemos probar primero a penalizar "
   ]
  },
  {
   "cell_type": "code",
   "execution_count": 94,
   "metadata": {},
   "outputs": [],
   "source": [
    "Q = np.diag([100, 1, 0.1])\n",
    "R = np.asarray([[0.1]])\n",
    "\n",
    "lqr_sys, K_lqr = lqr_system(system, Q, R)"
   ]
  },
  {
   "cell_type": "code",
   "execution_count": 104,
   "metadata": {},
   "outputs": [
    {
     "data": {
      "text/plain": [
       "array([[31.6227766 ,  3.1601853 ,  1.27160413]])"
      ]
     },
     "execution_count": 104,
     "metadata": {},
     "output_type": "execute_result"
    }
   ],
   "source": [
    "K_lqr"
   ]
  },
  {
   "cell_type": "code",
   "execution_count": 108,
   "metadata": {},
   "outputs": [
    {
     "data": {
      "text/plain": [
       "<Figure size 800x480 with 0 Axes>"
      ]
     },
     "metadata": {},
     "output_type": "display_data"
    },
    {
     "data": {
      "image/png": "[encoded data removed]",
      "text/plain": [
       "<Figure size 800x480 with 2 Axes>"
      ]
     },
     "metadata": {},
     "output_type": "display_data"
    }
   ],
   "source": [
    "simulate_system(lqr_sys, K_lqr)"
   ]
  },
  {
   "cell_type": "code",
   "execution_count": null,
   "metadata": {},
   "outputs": [],
   "source": []
  },
  {
   "cell_type": "code",
   "execution_count": null,
   "metadata": {},
   "outputs": [],
   "source": []
  },
  {
   "cell_type": "code",
   "execution_count": null,
   "metadata": {},
   "outputs": [],
   "source": []
  },
  {
   "cell_type": "code",
   "execution_count": null,
   "metadata": {},
   "outputs": [],
   "source": []
  },
  {
   "cell_type": "code",
   "execution_count": null,
   "metadata": {},
   "outputs": [],
   "source": []
  }
 ],
 "metadata": {
  "kernelspec": {
   "display_name": "Python 3",
   "language": "python",
   "name": "python3"
  },
  "language_info": {
   "codemirror_mode": {
    "name": "ipython",
    "version": 3
   },
   "file_extension": ".py",
   "mimetype": "text/x-python",
   "name": "python",
   "nbconvert_exporter": "python",
   "pygments_lexer": "ipython3",
   "version": "3.12.7"
  }
 },
 "nbformat": 4,
 "nbformat_minor": 2
}
